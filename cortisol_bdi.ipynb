{
  "nbformat": 4,
  "nbformat_minor": 0,
  "metadata": {
    "colab": {
      "provenance": [],
      "authorship_tag": "ABX9TyOwfyqIESnxjM9sDZW/ovSq",
      "include_colab_link": true
    },
    "kernelspec": {
      "name": "python3",
      "display_name": "Python 3"
    },
    "language_info": {
      "name": "python"
    }
  },
  "cells": [
    {
      "cell_type": "markdown",
      "metadata": {
        "id": "view-in-github",
        "colab_type": "text"
      },
      "source": [
        "<a href=\"https://colab.research.google.com/github/Kiron-Ang/DFHL/blob/main/cortisol_bdi.ipynb\" target=\"_parent\"><img src=\"https://colab.research.google.com/assets/colab-badge.svg\" alt=\"Open In Colab\"/></a>"
      ]
    },
    {
      "cell_type": "code",
      "source": [
        "# Print Python version and install/update/import libraries!\n",
        "!python -V\n",
        "\n",
        "!pip install -U scikit-learn > output.txt\n",
        "import sklearn\n",
        "print(\"scikit-learn\", sklearn.__version__)\n",
        "\n",
        "!pip install -U matplotlib > output.txt\n",
        "import matplotlib\n",
        "print(\"matplotlib\", matplotlib.__version__)\n",
        "\n",
        "!pip install -U seaborn > output.txt\n",
        "import seaborn\n",
        "print(\"seaborn\", seaborn.__version__)\n",
        "\n",
        "!pip install -U polars > output.txt\n",
        "import polars\n",
        "print(\"polars\", polars.__version__)\n",
        "\n",
        "# Read in two CSV files, one with cortisol data and one with BDI data\n",
        "cortisol = polars.read_csv(\"cortisol.csv\")\n",
        "cortisol = cortisol.drop_nulls()\n",
        "print(\"cortisol\", cortisol.shape)\n",
        "\n",
        "bdi = polars.read_csv(\"bdi.csv\")\n",
        "bdi = bdi.drop_nulls()\n",
        "print(\"bdi\", bdi.shape)"
      ],
      "metadata": {
        "id": "a5-2-r0EltFv",
        "colab": {
          "base_uri": "https://localhost:8080/"
        },
        "outputId": "4da3cfb2-068d-48e0-93ec-199b38d5f6f7"
      },
      "execution_count": 1,
      "outputs": [
        {
          "output_type": "stream",
          "name": "stdout",
          "text": [
            "Python 3.10.12\n",
            "scikit-learn 1.5.2\n",
            "matplotlib 3.7.1\n",
            "seaborn 0.13.2\n",
            "polars 1.8.2\n",
            "cortisol (21363, 7)\n",
            "bdi (403, 7)\n"
          ]
        }
      ]
    },
    {
      "cell_type": "code",
      "source": [
        "# Create two separate DataFrames to hold input X and target y\n",
        "X = cortisol[:,1:]\n",
        "print(\"X\", X.shape)\n",
        "print(\"X contains\", X.columns)\n",
        "y = cortisol[:,0]\n",
        "print(\"y\", y.shape)\n",
        "print(\"y contains\", y.name)"
      ],
      "metadata": {
        "colab": {
          "base_uri": "https://localhost:8080/"
        },
        "id": "wKr_rAqktrrz",
        "outputId": "66fc7a9d-ee40-4d35-dee3-9adff763268f"
      },
      "execution_count": 28,
      "outputs": [
        {
          "output_type": "stream",
          "name": "stdout",
          "text": [
            "X (21363, 6)\n",
            "X contains ['sample_month', 'gender', 'age', 'collection_time_minutes', 'awakening_time_minutes', 'minutes_awake']\n",
            "y (21363,)\n",
            "y contains cortisol_micrograms_per_deciliter\n"
          ]
        }
      ]
    },
    {
      "cell_type": "code",
      "source": [
        "# Make a pipeline to eliminate data leakage\n",
        "import sklearn.pipeline\n",
        "import sklearn.preprocessing\n",
        "import sklearn.neighbors\n",
        "import sklearn.ensemble\n",
        "\n",
        "pipeline = sklearn.pipeline.make_pipeline(\n",
        "    sklearn.ensemble.HistGradientBoostingRegressor(\n",
        "        loss = \"squared_error\",\n",
        "        learning_rate = 0.2,\n",
        "        max_iter = 1000,\n",
        "        max_leaf_nodes = 20,\n",
        "        scoring = \"r2\",\n",
        "        random_state = 1234\n",
        "    )\n",
        ")\n",
        "\n",
        "print(pipeline)"
      ],
      "metadata": {
        "id": "pvqex7q5UlFP",
        "colab": {
          "base_uri": "https://localhost:8080/"
        },
        "outputId": "9d012773-95c0-45fd-f26b-ab1f1f585954"
      },
      "execution_count": 81,
      "outputs": [
        {
          "output_type": "stream",
          "name": "stdout",
          "text": [
            "Pipeline(steps=[('histgradientboostingregressor',\n",
            "                 HistGradientBoostingRegressor(learning_rate=0.2, max_iter=1000,\n",
            "                                               max_leaf_nodes=20,\n",
            "                                               random_state=1234,\n",
            "                                               scoring='r2'))])\n"
          ]
        }
      ]
    },
    {
      "cell_type": "code",
      "source": [
        "import sklearn.model_selection\n",
        "\n",
        "# Use cross_validate instead of cross_val_score because\n",
        "# cross_validate can give us more information\n",
        "cross_validate_results = sklearn.model_selection.cross_validate(\n",
        "    pipeline, X, y, cv = 10, scoring = (\"r2\", \"neg_root_mean_squared_error\"),\n",
        "    verbose = 3\n",
        ")\n",
        "\n",
        "print(\"Mean of R2 scores:\", cross_validate_results[\"test_r2\"].mean())\n",
        "print(\"Mean of Negative RMSE values:\", cross_validate_results[\"test_neg_root_mean_squared_error\"].mean())"
      ],
      "metadata": {
        "id": "XvnpCxU0sycQ",
        "colab": {
          "base_uri": "https://localhost:8080/"
        },
        "outputId": "dfb30a90-bdcb-46cb-9f5e-67311e22d66c"
      },
      "execution_count": 82,
      "outputs": [
        {
          "output_type": "stream",
          "name": "stdout",
          "text": [
            "[CV] END  neg_root_mean_squared_error: (test=-0.142) r2: (test=0.325) total time=   0.1s\n",
            "[CV] END  neg_root_mean_squared_error: (test=-0.130) r2: (test=0.417) total time=   0.2s\n",
            "[CV] END  neg_root_mean_squared_error: (test=-0.131) r2: (test=0.389) total time=   0.1s\n",
            "[CV] END  neg_root_mean_squared_error: (test=-0.099) r2: (test=0.523) total time=   0.3s\n",
            "[CV] END  neg_root_mean_squared_error: (test=-0.112) r2: (test=0.466) total time=   0.2s\n",
            "[CV] END  neg_root_mean_squared_error: (test=-0.101) r2: (test=0.515) total time=   0.2s\n",
            "[CV] END  neg_root_mean_squared_error: (test=-0.112) r2: (test=0.404) total time=   0.3s\n",
            "[CV] END  neg_root_mean_squared_error: (test=-0.095) r2: (test=0.530) total time=   0.2s\n",
            "[CV] END  neg_root_mean_squared_error: (test=-0.116) r2: (test=0.413) total time=   0.2s\n",
            "[CV] END  neg_root_mean_squared_error: (test=-0.115) r2: (test=0.364) total time=   0.2s\n",
            "Mean of R2 scores: 0.43456162259688097\n",
            "Mean of Negative RMSE values: -0.11515924574056949\n"
          ]
        }
      ]
    }
  ]
}