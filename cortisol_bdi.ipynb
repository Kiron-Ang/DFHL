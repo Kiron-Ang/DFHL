{
  "nbformat": 4,
  "nbformat_minor": 0,
  "metadata": {
    "colab": {
      "provenance": [],
      "authorship_tag": "ABX9TyP9H1Rw+bvssoEIiDHI1FIA"
    },
    "kernelspec": {
      "name": "python3",
      "display_name": "Python 3"
    },
    "language_info": {
      "name": "python"
    }
  },
  "cells": [
    {
      "cell_type": "markdown",
      "source": [
        "# Cortisol and BDI\n",
        "Kiron Ang\n",
        "\n",
        "---\n",
        "## Introduction\n",
        "This analysis uses the Python programming language in a Google Colab hosted runtime to find relationships in a dataset of 21,590 cortisol samples taken from a sample of people from a village in Dominica. These samples were collected from various times between 1989 and 1998. In July 2003, Beck Depression Inventory surveys were administered to some of the individuals in the previous cortisol collection group. The goal of this analysis is to determine the best way to collect and analyze cortisol data, and how to integrate cortisol data with BDI data.\n",
        "\n",
        "## Methods\n",
        "The Python libraries used in this analysis are displayed below, along with their version numbers."
      ],
      "metadata": {
        "id": "_YKm4FTykCWl"
      }
    },
    {
      "cell_type": "code",
      "source": [
        "!python -V\n",
        "\n",
        "!pip install -U xgboost > true\n",
        "import xgboost\n",
        "print(\"xgboost\", xgboost.__version__)\n",
        "\n",
        "!pip install -U seaborn > true\n",
        "import seaborn\n",
        "print(\"seaborn\", seaborn.__version__)\n",
        "\n",
        "!pip install -U polars > true\n",
        "import polars\n",
        "print(\"polars\", polars.__version__)"
      ],
      "metadata": {
        "colab": {
          "base_uri": "https://localhost:8080/"
        },
        "id": "a5-2-r0EltFv",
        "outputId": "f6f10b4b-72de-4717-cb31-a3ee7ddc19e3"
      },
      "execution_count": 2,
      "outputs": [
        {
          "output_type": "stream",
          "name": "stdout",
          "text": [
            "Python 3.10.12\n",
            "xgboost 2.1.1\n",
            "seaborn 0.13.2\n",
            "polars 1.6.0\n"
          ]
        }
      ]
    },
    {
      "cell_type": "markdown",
      "source": [
        "The dataset is NOT publicly available as of writing. Additionally, some data cleaning and preparation was done outside of this Google Colab for privacy reasons."
      ],
      "metadata": {
        "id": "B57RbM6onL3s"
      }
    },
    {
      "cell_type": "code",
      "source": [
        "data = polars.read_csv(\"data.csv\")\n",
        "data"
      ],
      "metadata": {
        "colab": {
          "base_uri": "https://localhost:8080/",
          "height": 636
        },
        "id": "tGHeM68_nVHu",
        "outputId": "3177f539-ec81-4042-fc96-6d58c5301b4f"
      },
      "execution_count": 3,
      "outputs": [
        {
          "output_type": "execute_result",
          "data": {
            "text/plain": [
              "shape: (21_590, 12)\n",
              "┌───────────┬───────────┬──────────┬───────┬───┬────────────┬───────────────┬────────┬────────────┐\n",
              "│ person_id ┆ sample_id ┆ batch_id ┆ qc2   ┆ … ┆ wake_time  ┆ minutes_awake ┆ gender ┆ birth_year │\n",
              "│ ---       ┆ ---       ┆ ---      ┆ ---   ┆   ┆ ---        ┆ ---           ┆ ---    ┆ ---        │\n",
              "│ i64       ┆ i64       ┆ i64      ┆ f64   ┆   ┆ str        ┆ i64           ┆ str    ┆ i64        │\n",
              "╞═══════════╪═══════════╪══════════╪═══════╪═══╪════════════╪═══════════════╪════════╪════════════╡\n",
              "│ 241220    ┆ 8465      ┆ 123      ┆ 24.2  ┆ … ┆ 5:45:00 AM ┆ 350           ┆ F      ┆ 1992       │\n",
              "│ 241220    ┆ 8466      ┆ 122      ┆ 25.5  ┆ … ┆ 5:45:00 AM ┆ 269           ┆ F      ┆ 1992       │\n",
              "│ 241220    ┆ 8468      ┆ 121      ┆ 27.4  ┆ … ┆ 5:45:00 AM ┆ 160           ┆ F      ┆ 1992       │\n",
              "│ 241220    ┆ 8469      ┆ 125      ┆ 27.2  ┆ … ┆ 7:00:00 AM ┆ 203           ┆ F      ┆ 1992       │\n",
              "│ 241220    ┆ 8470      ┆ 125      ┆ 27.2  ┆ … ┆ 7:00:00 AM ┆ 70            ┆ F      ┆ 1992       │\n",
              "│ …         ┆ …         ┆ …        ┆ …     ┆ … ┆ …          ┆ …             ┆ …      ┆ …          │\n",
              "│ 999414592 ┆ 2693      ┆ 123      ┆ 24.2  ┆ … ┆ 6:03:00 AM ┆ 302           ┆ F      ┆ 1986       │\n",
              "│ 999414592 ┆ 2694      ┆ 113      ┆ 21.27 ┆ … ┆ 6:30:00 AM ┆ 225           ┆ F      ┆ 1986       │\n",
              "│ 999414592 ┆ 2695      ┆ 64       ┆ 17.9  ┆ … ┆ 6:00:00 AM ┆ 90            ┆ F      ┆ 1986       │\n",
              "│ 999414592 ┆ 2696      ┆ 117      ┆ 21.72 ┆ … ┆ 6:00:00 AM ┆ 145           ┆ F      ┆ 1986       │\n",
              "│ 999414592 ┆ 2697      ┆ 64       ┆ 17.9  ┆ … ┆ 6:40:00 AM ┆ 625           ┆ F      ┆ 1986       │\n",
              "└───────────┴───────────┴──────────┴───────┴───┴────────────┴───────────────┴────────┴────────────┘"
            ],
            "text/html": [
              "<div><style>\n",
              ".dataframe > thead > tr,\n",
              ".dataframe > tbody > tr {\n",
              "  text-align: right;\n",
              "  white-space: pre-wrap;\n",
              "}\n",
              "</style>\n",
              "<small>shape: (21_590, 12)</small><table border=\"1\" class=\"dataframe\"><thead><tr><th>person_id</th><th>sample_id</th><th>batch_id</th><th>qc2</th><th>qc3</th><th>cortisol_micrograms_per_deciliter</th><th>sample_date</th><th>collect_time</th><th>wake_time</th><th>minutes_awake</th><th>gender</th><th>birth_year</th></tr><tr><td>i64</td><td>i64</td><td>i64</td><td>f64</td><td>f64</td><td>f64</td><td>i64</td><td>str</td><td>str</td><td>i64</td><td>str</td><td>i64</td></tr></thead><tbody><tr><td>241220</td><td>8465</td><td>123</td><td>24.2</td><td>48.6</td><td>0.114</td><td>19980728</td><td>&quot;11:35:00 AM&quot;</td><td>&quot;5:45:00 AM&quot;</td><td>350</td><td>&quot;F&quot;</td><td>1992</td></tr><tr><td>241220</td><td>8466</td><td>122</td><td>25.5</td><td>50.0</td><td>0.0695</td><td>19980728</td><td>&quot;10:14:00 AM&quot;</td><td>&quot;5:45:00 AM&quot;</td><td>269</td><td>&quot;F&quot;</td><td>1992</td></tr><tr><td>241220</td><td>8468</td><td>121</td><td>27.4</td><td>50.0</td><td>0.26</td><td>19980728</td><td>&quot;8:25:00 AM&quot;</td><td>&quot;5:45:00 AM&quot;</td><td>160</td><td>&quot;F&quot;</td><td>1992</td></tr><tr><td>241220</td><td>8469</td><td>125</td><td>27.2</td><td>47.3</td><td>0.0985</td><td>19980730</td><td>&quot;10:23:00 AM&quot;</td><td>&quot;7:00:00 AM&quot;</td><td>203</td><td>&quot;F&quot;</td><td>1992</td></tr><tr><td>241220</td><td>8470</td><td>125</td><td>27.2</td><td>47.3</td><td>0.2335</td><td>19980730</td><td>&quot;8:10:00 AM&quot;</td><td>&quot;7:00:00 AM&quot;</td><td>70</td><td>&quot;F&quot;</td><td>1992</td></tr><tr><td>&hellip;</td><td>&hellip;</td><td>&hellip;</td><td>&hellip;</td><td>&hellip;</td><td>&hellip;</td><td>&hellip;</td><td>&hellip;</td><td>&hellip;</td><td>&hellip;</td><td>&hellip;</td><td>&hellip;</td></tr><tr><td>999414592</td><td>2693</td><td>123</td><td>24.2</td><td>48.6</td><td>0.1675</td><td>19980728</td><td>&quot;11:05:00 AM&quot;</td><td>&quot;6:03:00 AM&quot;</td><td>302</td><td>&quot;F&quot;</td><td>1986</td></tr><tr><td>999414592</td><td>2694</td><td>113</td><td>21.27</td><td>48.83</td><td>0.14356</td><td>19950721</td><td>&quot;10:15:00 AM&quot;</td><td>&quot;6:30:00 AM&quot;</td><td>225</td><td>&quot;F&quot;</td><td>1986</td></tr><tr><td>999414592</td><td>2695</td><td>64</td><td>17.9</td><td>28.8</td><td>0.207</td><td>1992088</td><td>&quot;7:30:00 AM&quot;</td><td>&quot;6:00:00 AM&quot;</td><td>90</td><td>&quot;F&quot;</td><td>1986</td></tr><tr><td>999414592</td><td>2696</td><td>117</td><td>21.72</td><td>46.22</td><td>0.0952</td><td>19960717</td><td>&quot;8:25:00 AM&quot;</td><td>&quot;6:00:00 AM&quot;</td><td>145</td><td>&quot;F&quot;</td><td>1986</td></tr><tr><td>999414592</td><td>2697</td><td>64</td><td>17.9</td><td>28.8</td><td>0.036</td><td>1992087</td><td>&quot;5:05:00 PM&quot;</td><td>&quot;6:40:00 AM&quot;</td><td>625</td><td>&quot;F&quot;</td><td>1986</td></tr></tbody></table></div>"
            ]
          },
          "metadata": {},
          "execution_count": 3
        }
      ]
    },
    {
      "cell_type": "markdown",
      "source": [],
      "metadata": {
        "id": "qhPEeECR23Nz"
      }
    }
  ]
}