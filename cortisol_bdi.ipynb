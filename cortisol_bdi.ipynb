{
  "nbformat": 4,
  "nbformat_minor": 0,
  "metadata": {
    "colab": {
      "provenance": [],
      "authorship_tag": "ABX9TyPUhCitI9G7duycWl5wf1Lb",
      "include_colab_link": true
    },
    "kernelspec": {
      "name": "python3",
      "display_name": "Python 3"
    },
    "language_info": {
      "name": "python"
    }
  },
  "cells": [
    {
      "cell_type": "markdown",
      "metadata": {
        "id": "view-in-github",
        "colab_type": "text"
      },
      "source": [
        "<a href=\"https://colab.research.google.com/github/Kiron-Ang/DFHL/blob/main/cortisol_bdi.ipynb\" target=\"_parent\"><img src=\"https://colab.research.google.com/assets/colab-badge.svg\" alt=\"Open In Colab\"/></a>"
      ]
    },
    {
      "cell_type": "code",
      "source": [
        "# Print Python version and install/update/import libraries!\n",
        "!python -V\n",
        "\n",
        "!pip install -U scikit-learn > output.txt\n",
        "import sklearn\n",
        "print(\"scikit-learn\", sklearn.__version__)\n",
        "\n",
        "!pip install -U matplotlib > output.txt\n",
        "import matplotlib\n",
        "print(\"matplotlib\", matplotlib.__version__)\n",
        "\n",
        "!pip install -U seaborn > output.txt\n",
        "import seaborn\n",
        "print(\"seaborn\", seaborn.__version__)\n",
        "\n",
        "!pip install -U polars > output.txt\n",
        "import polars\n",
        "print(\"polars\", polars.__version__)\n",
        "\n",
        "# Read in two CSV files, one with cortisol data and one with BDI data\n",
        "# The BDI data file is named \"prediction\" because the goal is to extrapolate\n",
        "# and predict the salivary cortisol measurement of the people to draw correlations.\n",
        "# This must be done because the cortisol is from 1989 to 1999,\n",
        "# while the BDI scores are from July 2003.\n",
        "cortisol = polars.read_csv(\"cortisol.csv\")\n",
        "print(\"cortisol\", cortisol.shape)\n",
        "prediction = polars.read_csv(\"prediction.csv\")\n",
        "print(\"prediction\", prediction.shape)"
      ],
      "metadata": {
        "id": "a5-2-r0EltFv",
        "colab": {
          "base_uri": "https://localhost:8080/"
        },
        "outputId": "c86f50f3-c8ae-4d20-abd2-4fec042b2f18"
      },
      "execution_count": 2,
      "outputs": [
        {
          "output_type": "stream",
          "name": "stdout",
          "text": [
            "Python 3.10.12\n",
            "scikit-learn 1.5.2\n",
            "matplotlib 3.7.1\n",
            "seaborn 0.13.2\n",
            "polars 1.8.2\n",
            "cortisol (21367, 12)\n",
            "prediction (403, 13)\n"
          ]
        }
      ]
    },
    {
      "cell_type": "code",
      "source": [],
      "metadata": {
        "id": "pvqex7q5UlFP"
      },
      "execution_count": null,
      "outputs": []
    }
  ]
}