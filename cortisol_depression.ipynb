{
  "nbformat": 4,
  "nbformat_minor": 0,
  "metadata": {
    "colab": {
      "provenance": [],
      "authorship_tag": "ABX9TyPPQSF3fsLJL/ELHrYP4+3o",
      "include_colab_link": true
    },
    "kernelspec": {
      "name": "python3",
      "display_name": "Python 3"
    },
    "language_info": {
      "name": "python"
    }
  },
  "cells": [
    {
      "cell_type": "markdown",
      "metadata": {
        "id": "view-in-github",
        "colab_type": "text"
      },
      "source": [
        "<a href=\"https://colab.research.google.com/github/Kiron-Ang/DFHL/blob/main/cortisol_depression.ipynb\" target=\"_parent\"><img src=\"https://colab.research.google.com/assets/colab-badge.svg\" alt=\"Open In Colab\"/></a>"
      ]
    },
    {
      "cell_type": "code",
      "source": [
        "# Print Python version and install/update/import libraries!\n",
        "!python -V\n",
        "\n",
        "!pip install -U scikit-learn > output.txt\n",
        "import sklearn\n",
        "print(\"scikit-learn\", sklearn.__version__)\n",
        "\n",
        "!pip install -U polars > output.txt\n",
        "import polars\n",
        "print(\"polars\", polars.__version__)"
      ],
      "metadata": {
        "id": "a5-2-r0EltFv",
        "colab": {
          "base_uri": "https://localhost:8080/"
        },
        "outputId": "81a92c29-07e8-4b68-a89b-1fd02af90f43"
      },
      "execution_count": 1,
      "outputs": [
        {
          "output_type": "stream",
          "name": "stdout",
          "text": [
            "Python 3.10.12\n",
            "scikit-learn 1.5.2\n",
            "polars 1.9.0\n"
          ]
        }
      ]
    },
    {
      "cell_type": "code",
      "source": [
        "# read_csv() to store data in a Polars DataFrame\n",
        "cortisol = polars.read_csv(\"cortisol - cleansed.csv\")\n",
        "cortisol = cortisol.drop_nulls()\n",
        "print(\"cortisol\", cortisol.shape)\n",
        "print(\"cortisol contains\", cortisol.columns)"
      ],
      "metadata": {
        "colab": {
          "base_uri": "https://localhost:8080/"
        },
        "id": "TRCwmBmovPiW",
        "outputId": "7c8a819d-71af-470d-8712-4788d76d4d7e"
      },
      "execution_count": 2,
      "outputs": [
        {
          "output_type": "stream",
          "name": "stdout",
          "text": [
            "cortisol (21587, 14)\n",
            "cortisol contains ['record_id', 'person_id', 'name', 'cortisol', 'month', 'day', 'year', 'collection', 'awakening', 'collection_minutes', 'awakening_minutes', 'difference_minutes', 'age', 'gender']\n"
          ]
        }
      ]
    },
    {
      "cell_type": "code",
      "source": [
        "# Create two separate Polars DataFrames to hold input X and target y\n",
        "X = cortisol[\"month\", \"collection_minutes\", \"awakening_minutes\", \"difference_minutes\", \"age\", \"gender\"]\n",
        "print(\"X\", X.shape)\n",
        "print(\"X contains\", X.columns)\n",
        "print(X)\n",
        "\n",
        "y = cortisol[\"cortisol\"]\n",
        "print(\"y\", y.shape)\n",
        "print(\"y contains\", y.name)\n",
        "print(y)"
      ],
      "metadata": {
        "id": "wKr_rAqktrrz",
        "colab": {
          "base_uri": "https://localhost:8080/"
        },
        "outputId": "949bbf10-5725-4c9a-8862-231e0f8630e5"
      },
      "execution_count": 3,
      "outputs": [
        {
          "output_type": "stream",
          "name": "stdout",
          "text": [
            "X (21587, 6)\n",
            "X contains ['month', 'collection_minutes', 'awakening_minutes', 'difference_minutes', 'age', 'gender']\n",
            "shape: (21_587, 6)\n",
            "┌───────┬────────────────────┬───────────────────┬────────────────────┬─────┬────────┐\n",
            "│ month ┆ collection_minutes ┆ awakening_minutes ┆ difference_minutes ┆ age ┆ gender │\n",
            "│ ---   ┆ ---                ┆ ---               ┆ ---                ┆ --- ┆ ---    │\n",
            "│ i64   ┆ i64                ┆ i64               ┆ i64                ┆ i64 ┆ i64    │\n",
            "╞═══════╪════════════════════╪═══════════════════╪════════════════════╪═════╪════════╡\n",
            "│ 7     ┆ 450                ┆ 390               ┆ 60                 ┆ 1   ┆ 0      │\n",
            "│ 8     ┆ 490                ┆ 420               ┆ 70                 ┆ 1   ┆ 0      │\n",
            "│ 7     ┆ 465                ┆ 390               ┆ 75                 ┆ 1   ┆ 0      │\n",
            "│ 7     ┆ 480                ┆ 375               ┆ 105                ┆ 1   ┆ 0      │\n",
            "│ 7     ┆ 490                ┆ 360               ┆ 130                ┆ 1   ┆ 0      │\n",
            "│ …     ┆ …                  ┆ …                 ┆ …                  ┆ …   ┆ …      │\n",
            "│ 7     ┆ 975                ┆ 300               ┆ 675                ┆ 65  ┆ 1      │\n",
            "│ 6     ┆ 1055               ┆ 360               ┆ 695                ┆ 65  ┆ 1      │\n",
            "│ 8     ┆ 1040               ┆ 300               ┆ 740                ┆ 65  ┆ 1      │\n",
            "│ 7     ┆ 1055               ┆ 300               ┆ 755                ┆ 65  ┆ 1      │\n",
            "│ 7     ┆ 1050               ┆ 120               ┆ 930                ┆ 65  ┆ 1      │\n",
            "└───────┴────────────────────┴───────────────────┴────────────────────┴─────┴────────┘\n",
            "y (21587,)\n",
            "y contains cortisol\n",
            "shape: (21_587,)\n",
            "Series: 'cortisol' [f64]\n",
            "[\n",
            "\t0.146\n",
            "\t0.2625\n",
            "\t0.2805\n",
            "\t0.0885\n",
            "\t0.0895\n",
            "\t…\n",
            "\t0.209\n",
            "\t0.0475\n",
            "\t0.057\n",
            "\t0.0855\n",
            "\t0.19\n",
            "]\n"
          ]
        }
      ]
    },
    {
      "cell_type": "code",
      "source": [
        "# make_pipeline() to organize model steps\n",
        "import sklearn.pipeline\n",
        "import sklearn.ensemble\n",
        "\n",
        "pipeline = sklearn.pipeline.make_pipeline(\n",
        "    sklearn.ensemble.HistGradientBoostingRegressor(\n",
        "        random_state = 900, scoring = \"r2\", validation_fraction = 0.2))\n",
        "\n",
        "print(pipeline)"
      ],
      "metadata": {
        "id": "pvqex7q5UlFP",
        "colab": {
          "base_uri": "https://localhost:8080/"
        },
        "outputId": "360f7131-734b-43d9-ab1e-7e49ac69b4bb"
      },
      "execution_count": 5,
      "outputs": [
        {
          "output_type": "stream",
          "name": "stdout",
          "text": [
            "Pipeline(steps=[('histgradientboostingregressor',\n",
            "                 HistGradientBoostingRegressor(random_state=900, scoring='r2',\n",
            "                                               validation_fraction=0.2))])\n"
          ]
        }
      ]
    },
    {
      "cell_type": "code",
      "source": [
        "# GridSearchCV() to find the best parameters\n",
        "import sklearn.model_selection\n",
        "\n",
        "param_grid = {\n",
        "    'histgradientboostingregressor__learning_rate': [0.001, 0.01, 0.1, 1],\n",
        "    'histgradientboostingregressor__max_iter': [1, 10, 100, 1000],\n",
        "    'histgradientboostingregressor__max_leaf_nodes': [10, 100, 1000, 10000],\n",
        "}\n",
        "\n",
        "gridsearchcv = sklearn.model_selection.GridSearchCV(pipeline, param_grid)\n",
        "\n",
        "gridsearchcv.fit(X, y)\n",
        "\n",
        "best_estimator = gridsearchcv.best_estimator_\n",
        "print(best_estimator)"
      ],
      "metadata": {
        "id": "hKrA5iKDyCUs",
        "colab": {
          "base_uri": "https://localhost:8080/"
        },
        "outputId": "a346d730-e5e9-4c61-cb76-bc5202f03482"
      },
      "execution_count": 8,
      "outputs": [
        {
          "output_type": "stream",
          "name": "stdout",
          "text": [
            "Pipeline(steps=[('histgradientboostingregressor',\n",
            "                 HistGradientBoostingRegressor(learning_rate=0.01,\n",
            "                                               max_iter=1000, max_leaf_nodes=10,\n",
            "                                               random_state=900, scoring='r2',\n",
            "                                               validation_fraction=0.2))])\n"
          ]
        }
      ]
    },
    {
      "cell_type": "code",
      "source": [
        "# make_pipeline() to incorporate grid search results\n",
        "import sklearn.pipeline\n",
        "import sklearn.ensemble\n",
        "\n",
        "pipeline = sklearn.pipeline.make_pipeline(\n",
        "    sklearn.ensemble.HistGradientBoostingRegressor(\n",
        "        random_state = 900, scoring = \"r2\", validation_fraction = 0.2,\n",
        "        learning_rate = 0.01, max_iter = 1000, max_leaf_nodes = 10))\n",
        "\n",
        "print(pipeline)"
      ],
      "metadata": {
        "colab": {
          "base_uri": "https://localhost:8080/"
        },
        "id": "L5QNoOWpPDi7",
        "outputId": "78a311bd-a864-4903-baee-3d528171bf77"
      },
      "execution_count": 9,
      "outputs": [
        {
          "output_type": "stream",
          "name": "stdout",
          "text": [
            "Pipeline(steps=[('histgradientboostingregressor',\n",
            "                 HistGradientBoostingRegressor(learning_rate=0.01,\n",
            "                                               max_iter=1000, max_leaf_nodes=10,\n",
            "                                               random_state=900, scoring='r2',\n",
            "                                               validation_fraction=0.2))])\n"
          ]
        }
      ]
    },
    {
      "cell_type": "code",
      "source": [
        "# cross_validate() to determine model performance\n"
      ],
      "metadata": {
        "id": "0a-5-F5X3lal"
      },
      "execution_count": null,
      "outputs": []
    },
    {
      "cell_type": "code",
      "source": [
        "# fit() and predict() to forecast/extrapolate cortisol measurements"
      ],
      "metadata": {
        "id": "pCCqr0So2qjS"
      },
      "execution_count": null,
      "outputs": []
    }
  ]
}