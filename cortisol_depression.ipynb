{
  "nbformat": 4,
  "nbformat_minor": 0,
  "metadata": {
    "colab": {
      "provenance": [],
      "authorship_tag": "ABX9TyPFBcZqvFSM/DjZy5R7D3LL",
      "include_colab_link": true
    },
    "kernelspec": {
      "name": "python3",
      "display_name": "Python 3"
    },
    "language_info": {
      "name": "python"
    }
  },
  "cells": [
    {
      "cell_type": "markdown",
      "metadata": {
        "id": "view-in-github",
        "colab_type": "text"
      },
      "source": [
        "<a href=\"https://colab.research.google.com/github/Kiron-Ang/DFHL/blob/main/cortisol_depression.ipynb\" target=\"_parent\"><img src=\"https://colab.research.google.com/assets/colab-badge.svg\" alt=\"Open In Colab\"/></a>"
      ]
    },
    {
      "cell_type": "code",
      "source": [
        "# Print Python version and install/update/import libraries!\n",
        "!python -V\n",
        "\n",
        "!pip install -U scikit-learn > output.txt\n",
        "import sklearn\n",
        "print(\"scikit-learn\", sklearn.__version__)\n",
        "\n",
        "!pip install -U polars > output.txt\n",
        "import polars\n",
        "print(\"polars\", polars.__version__)\n",
        "\n",
        "!pip install -U matplotlib > output.txt\n",
        "import matplotlib\n",
        "print(\"matplotlib\", matplotlib.__version__)"
      ],
      "metadata": {
        "id": "a5-2-r0EltFv",
        "colab": {
          "base_uri": "https://localhost:8080/"
        },
        "outputId": "a3e0ff35-36ec-4f73-de4f-7bcb19967c71"
      },
      "execution_count": 1,
      "outputs": [
        {
          "output_type": "stream",
          "name": "stdout",
          "text": [
            "Python 3.10.12\n",
            "scikit-learn 1.5.2\n",
            "polars 1.9.0\n",
            "matplotlib 3.9.2\n"
          ]
        }
      ]
    },
    {
      "cell_type": "code",
      "source": [
        "# read_csv() to store data in a Polars DataFrame\n",
        "cortisol = polars.read_csv(\"cortisol - cleansed.csv\")\n",
        "cortisol = cortisol.drop_nulls()\n",
        "print(\"cortisol\", cortisol.shape)\n",
        "print(\"cortisol contains\", cortisol.columns)"
      ],
      "metadata": {
        "colab": {
          "base_uri": "https://localhost:8080/"
        },
        "id": "TRCwmBmovPiW",
        "outputId": "d5696539-3ff1-4b0d-d766-9b9d68d11816"
      },
      "execution_count": 2,
      "outputs": [
        {
          "output_type": "stream",
          "name": "stdout",
          "text": [
            "cortisol (21587, 14)\n",
            "cortisol contains ['record_id', 'person_id', 'name', 'cortisol', 'month', 'day', 'year', 'collection', 'awakening', 'collection_minutes', 'awakening_minutes', 'difference_minutes', 'age', 'gender']\n"
          ]
        }
      ]
    },
    {
      "cell_type": "code",
      "source": [
        "# Create two separate Polars DataFrames to hold input X and target y\n",
        "X = cortisol[\"month\", \"collection_minutes\", \"awakening_minutes\", \"difference_minutes\", \"age\", \"gender\"]\n",
        "print(\"X\", X.shape)\n",
        "print(\"X contains\", X.columns)\n",
        "print(X)\n",
        "\n",
        "y = cortisol[\"cortisol\"]\n",
        "print(\"y\", y.shape)\n",
        "print(\"y contains\", y.name)\n",
        "print(y)"
      ],
      "metadata": {
        "id": "wKr_rAqktrrz",
        "colab": {
          "base_uri": "https://localhost:8080/"
        },
        "outputId": "2343fee6-5725-439a-89cb-7b44e3b55b8f"
      },
      "execution_count": 3,
      "outputs": [
        {
          "output_type": "stream",
          "name": "stdout",
          "text": [
            "X (21587, 6)\n",
            "X contains ['month', 'collection_minutes', 'awakening_minutes', 'difference_minutes', 'age', 'gender']\n",
            "shape: (21_587, 6)\n",
            "┌───────┬────────────────────┬───────────────────┬────────────────────┬─────┬────────┐\n",
            "│ month ┆ collection_minutes ┆ awakening_minutes ┆ difference_minutes ┆ age ┆ gender │\n",
            "│ ---   ┆ ---                ┆ ---               ┆ ---                ┆ --- ┆ ---    │\n",
            "│ i64   ┆ i64                ┆ i64               ┆ i64                ┆ i64 ┆ i64    │\n",
            "╞═══════╪════════════════════╪═══════════════════╪════════════════════╪═════╪════════╡\n",
            "│ 7     ┆ 450                ┆ 390               ┆ 60                 ┆ 1   ┆ 0      │\n",
            "│ 8     ┆ 490                ┆ 420               ┆ 70                 ┆ 1   ┆ 0      │\n",
            "│ 7     ┆ 465                ┆ 390               ┆ 75                 ┆ 1   ┆ 0      │\n",
            "│ 7     ┆ 480                ┆ 375               ┆ 105                ┆ 1   ┆ 0      │\n",
            "│ 7     ┆ 490                ┆ 360               ┆ 130                ┆ 1   ┆ 0      │\n",
            "│ …     ┆ …                  ┆ …                 ┆ …                  ┆ …   ┆ …      │\n",
            "│ 7     ┆ 975                ┆ 300               ┆ 675                ┆ 65  ┆ 1      │\n",
            "│ 6     ┆ 1055               ┆ 360               ┆ 695                ┆ 65  ┆ 1      │\n",
            "│ 8     ┆ 1040               ┆ 300               ┆ 740                ┆ 65  ┆ 1      │\n",
            "│ 7     ┆ 1055               ┆ 300               ┆ 755                ┆ 65  ┆ 1      │\n",
            "│ 7     ┆ 1050               ┆ 120               ┆ 930                ┆ 65  ┆ 1      │\n",
            "└───────┴────────────────────┴───────────────────┴────────────────────┴─────┴────────┘\n",
            "y (21587,)\n",
            "y contains cortisol\n",
            "shape: (21_587,)\n",
            "Series: 'cortisol' [f64]\n",
            "[\n",
            "\t0.146\n",
            "\t0.2625\n",
            "\t0.2805\n",
            "\t0.0885\n",
            "\t0.0895\n",
            "\t…\n",
            "\t0.209\n",
            "\t0.0475\n",
            "\t0.057\n",
            "\t0.0855\n",
            "\t0.19\n",
            "]\n"
          ]
        }
      ]
    },
    {
      "cell_type": "code",
      "source": [
        "# make_pipeline() to organize model steps\n",
        "import sklearn.pipeline\n",
        "import sklearn.ensemble\n",
        "\n",
        "pipeline = sklearn.pipeline.make_pipeline(\n",
        "    sklearn.ensemble.HistGradientBoostingRegressor(\n",
        "        random_state = 900, scoring = \"r2\", validation_fraction = 0.2))\n",
        "\n",
        "print(pipeline)"
      ],
      "metadata": {
        "id": "pvqex7q5UlFP",
        "colab": {
          "base_uri": "https://localhost:8080/"
        },
        "outputId": "6f1ebe73-e8f6-47cf-9970-d45785b2fadc"
      },
      "execution_count": 4,
      "outputs": [
        {
          "output_type": "stream",
          "name": "stdout",
          "text": [
            "Pipeline(steps=[('histgradientboostingregressor',\n",
            "                 HistGradientBoostingRegressor(random_state=900, scoring='r2',\n",
            "                                               validation_fraction=0.2))])\n"
          ]
        }
      ]
    },
    {
      "cell_type": "code",
      "source": [
        "\"\"\"\n",
        "THIS IS IN A COMMENT BECAUSE GRIDSEARCH TAKES A LONG TIME TO EXECUTE\n",
        "# GridSearchCV() to find the best parameters\n",
        "import sklearn.model_selection\n",
        "\n",
        "param_grid = {\n",
        "    'histgradientboostingregressor__learning_rate': [0.001, 0.01, 0.1, 1],\n",
        "    'histgradientboostingregressor__max_iter': [1, 10, 100, 1000],\n",
        "    'histgradientboostingregressor__max_leaf_nodes': [10, 100, 1000, 10000],\n",
        "}\n",
        "\n",
        "gridsearchcv = sklearn.model_selection.GridSearchCV(pipeline, param_grid)\n",
        "\n",
        "gridsearchcv.fit(X, y)\n",
        "\n",
        "best_estimator = gridsearchcv.best_estimator_\n",
        "print(best_estimator)\n",
        "\n",
        "OUTPUT:\n",
        "Pipeline(steps=[('histgradientboostingregressor',\n",
        "                 HistGradientBoostingRegressor(learning_rate=0.01,\n",
        "                                               max_iter=1000, max_leaf_nodes=10,\n",
        "                                               random_state=900, scoring='r2',\n",
        "                                               validation_fraction=0.2))])\n",
        "\"\"\""
      ],
      "metadata": {
        "id": "hKrA5iKDyCUs",
        "colab": {
          "base_uri": "https://localhost:8080/",
          "height": 144
        },
        "outputId": "f65c11fa-d079-4067-ec42-a13e7fd7b7d3"
      },
      "execution_count": 5,
      "outputs": [
        {
          "output_type": "execute_result",
          "data": {
            "text/plain": [
              "\"\\nTHIS IS IN A COMMENT BECAUSE GRIDSEARCH TAKES A LONG TIME TO EXECUTE\\n# GridSearchCV() to find the best parameters\\nimport sklearn.model_selection\\n\\nparam_grid = {\\n    'histgradientboostingregressor__learning_rate': [0.001, 0.01, 0.1, 1],\\n    'histgradientboostingregressor__max_iter': [1, 10, 100, 1000],\\n    'histgradientboostingregressor__max_leaf_nodes': [10, 100, 1000, 10000],\\n}\\n\\ngridsearchcv = sklearn.model_selection.GridSearchCV(pipeline, param_grid)\\n\\ngridsearchcv.fit(X, y)\\n\\nbest_estimator = gridsearchcv.best_estimator_\\nprint(best_estimator)\\n\\nOUTPUT:\\nPipeline(steps=[('histgradientboostingregressor',\\n                 HistGradientBoostingRegressor(learning_rate=0.01,\\n                                               max_iter=1000, max_leaf_nodes=10,\\n                                               random_state=900, scoring='r2',\\n                                               validation_fraction=0.2))])\\n\""
            ],
            "application/vnd.google.colaboratory.intrinsic+json": {
              "type": "string"
            }
          },
          "metadata": {},
          "execution_count": 5
        }
      ]
    },
    {
      "cell_type": "code",
      "source": [
        "# make_pipeline() to incorporate grid search results\n",
        "import sklearn.pipeline\n",
        "import sklearn.ensemble\n",
        "\n",
        "pipeline = sklearn.pipeline.make_pipeline(\n",
        "    sklearn.ensemble.HistGradientBoostingRegressor(\n",
        "        random_state = 900, scoring = \"r2\", validation_fraction = 0.2,\n",
        "        learning_rate = 0.01, max_iter = 1000, max_leaf_nodes = 10))\n",
        "\n",
        "print(pipeline)"
      ],
      "metadata": {
        "colab": {
          "base_uri": "https://localhost:8080/"
        },
        "id": "L5QNoOWpPDi7",
        "outputId": "2b31ab61-f00c-433c-fde6-a29564b1f197"
      },
      "execution_count": 6,
      "outputs": [
        {
          "output_type": "stream",
          "name": "stdout",
          "text": [
            "Pipeline(steps=[('histgradientboostingregressor',\n",
            "                 HistGradientBoostingRegressor(learning_rate=0.01,\n",
            "                                               max_iter=1000, max_leaf_nodes=10,\n",
            "                                               random_state=900, scoring='r2',\n",
            "                                               validation_fraction=0.2))])\n"
          ]
        }
      ]
    },
    {
      "cell_type": "code",
      "source": [
        "# cross_validate() to determine model performance\n",
        "cross_validate = sklearn.model_selection.cross_validate(\n",
        "    pipeline, X, y)\n",
        "\n",
        "print(\"r^2 score:\", cross_validate[\"test_score\"].mean())"
      ],
      "metadata": {
        "id": "0a-5-F5X3lal",
        "colab": {
          "base_uri": "https://localhost:8080/"
        },
        "outputId": "e68731c2-b2f4-4266-9d66-d8999698a389"
      },
      "execution_count": 7,
      "outputs": [
        {
          "output_type": "stream",
          "name": "stdout",
          "text": [
            "r^2 score: 0.415798788794548\n"
          ]
        }
      ]
    },
    {
      "cell_type": "code",
      "source": [
        "# fit() on all data\n",
        "pipeline.fit(X, y)\n",
        "\n",
        "# read_csv() to store data in a Polars DataFrame\n",
        "bdi = polars.read_csv(\"cortisol - 402_people.csv\")\n",
        "bdi = bdi.drop_nulls()\n",
        "print(\"bdi\", bdi.shape)\n",
        "print(\"bdi contains\", bdi.columns)"
      ],
      "metadata": {
        "id": "pCCqr0So2qjS",
        "colab": {
          "base_uri": "https://localhost:8080/"
        },
        "outputId": "58d7930c-e98a-4818-ce3a-0beb2a58d060"
      },
      "execution_count": 8,
      "outputs": [
        {
          "output_type": "stream",
          "name": "stdout",
          "text": [
            "bdi (402, 5)\n",
            "bdi contains ['id', 'name', 'gender', 'birth_year', 'bdi']\n"
          ]
        }
      ]
    },
    {
      "cell_type": "code",
      "source": [
        "# Extrapolate two cortisol measurements with predict():\n",
        "# 1) 7 AM in July 2003\n",
        "# 2) 4 PM in July 2003\n",
        "\n",
        "# Add age column; age = 2003 - birth_year\n",
        "age = polars.Series(\"age\", 2003 - bdi[\"birth_year\"])\n",
        "bdi.insert_column(-1, age)\n",
        "\n",
        "# Add month column; BDI survey scores were collected in July, 2003\n",
        "month = polars.Series(\"month\", [7] * 402)\n",
        "bdi.insert_column(-1, month)\n",
        "\n",
        "# Add awakening_minutes column; assume everyone wakes up at 6 AM\n",
        "awakening_minutes = polars.Series(\"awakening_minutes\", [360] * 402)\n",
        "bdi.insert_column(-1, awakening_minutes)\n",
        "\n",
        "# Add collection_minutes_1; assume 7 AM\n",
        "collection_minutes_1 = polars.Series(\"collection_minutes_1\", [420] * 402)\n",
        "bdi.insert_column(-1, collection_minutes_1)\n",
        "\n",
        "# Add collection_minutes_2; assume 4 PM\n",
        "collection_minutes_2 = polars.Series(\"collection_minutes_2\", [960] * 402)\n",
        "bdi.insert_column(-1, collection_minutes_2)\n",
        "\n",
        "# Add difference_minutes_1\n",
        "difference_minutes_1 = polars.Series(\"difference_minutes_1\", bdi[\"collection_minutes_1\"] - bdi[\"awakening_minutes\"])\n",
        "bdi.insert_column(-1, difference_minutes_1)\n",
        "\n",
        "# Add difference_minutes_2\n",
        "difference_minutes_2 = polars.Series(\"difference_minutes_2\", bdi[\"collection_minutes_2\"] - bdi[\"awakening_minutes\"])\n",
        "bdi.insert_column(-1, difference_minutes_2)\n",
        "\n",
        "print(\"bdi\", bdi.shape)\n",
        "print(\"bdi contains\", bdi.columns)"
      ],
      "metadata": {
        "colab": {
          "base_uri": "https://localhost:8080/"
        },
        "id": "baTlzLjXxZzO",
        "outputId": "151d5946-5459-4980-8bdd-f7ee37b62853"
      },
      "execution_count": 9,
      "outputs": [
        {
          "output_type": "stream",
          "name": "stdout",
          "text": [
            "bdi (402, 12)\n",
            "bdi contains ['id', 'name', 'gender', 'birth_year', 'age', 'month', 'awakening_minutes', 'collection_minutes_1', 'collection_minutes_2', 'difference_minutes_1', 'difference_minutes_2', 'bdi']\n"
          ]
        }
      ]
    },
    {
      "cell_type": "code",
      "source": [
        "# Create new two new inputs in Polars DataFrames, X_1, X_2, to\n",
        "# predict cortisol measurements, cortisol_1, cortisol_2\n",
        "X_1 = bdi[\"month\", \"collection_minutes_1\", \"awakening_minutes\", \"difference_minutes_1\", \"age\", \"gender\"]\n",
        "print(\"X_1\", X_1.shape)\n",
        "print(\"X_1 contains\", X_1.columns)\n",
        "print(X_1)\n",
        "\n",
        "X_2 = bdi[\"month\", \"collection_minutes_2\", \"awakening_minutes\", \"difference_minutes_2\", \"age\", \"gender\"]\n",
        "print(\"X_2\", X_2.shape)\n",
        "print(\"X_2 contains\", X_2.columns)\n",
        "print(X_2)"
      ],
      "metadata": {
        "colab": {
          "base_uri": "https://localhost:8080/"
        },
        "id": "9XbX41Swz7tp",
        "outputId": "e383f100-a69f-4baf-eedb-9272d05a2930"
      },
      "execution_count": 10,
      "outputs": [
        {
          "output_type": "stream",
          "name": "stdout",
          "text": [
            "X_1 (402, 6)\n",
            "X_1 contains ['month', 'collection_minutes_1', 'awakening_minutes', 'difference_minutes_1', 'age', 'gender']\n",
            "shape: (402, 6)\n",
            "┌───────┬──────────────────────┬───────────────────┬──────────────────────┬─────┬────────┐\n",
            "│ month ┆ collection_minutes_1 ┆ awakening_minutes ┆ difference_minutes_1 ┆ age ┆ gender │\n",
            "│ ---   ┆ ---                  ┆ ---               ┆ ---                  ┆ --- ┆ ---    │\n",
            "│ i64   ┆ i64                  ┆ i64               ┆ i64                  ┆ i64 ┆ i64    │\n",
            "╞═══════╪══════════════════════╪═══════════════════╪══════════════════════╪═════╪════════╡\n",
            "│ 7     ┆ 420                  ┆ 360               ┆ 60                   ┆ 7   ┆ 0      │\n",
            "│ 7     ┆ 420                  ┆ 360               ┆ 60                   ┆ 14  ┆ 0      │\n",
            "│ 7     ┆ 420                  ┆ 360               ┆ 60                   ┆ 11  ┆ 0      │\n",
            "│ 7     ┆ 420                  ┆ 360               ┆ 60                   ┆ 10  ┆ 0      │\n",
            "│ 7     ┆ 420                  ┆ 360               ┆ 60                   ┆ 12  ┆ 0      │\n",
            "│ …     ┆ …                    ┆ …                 ┆ …                    ┆ …   ┆ …      │\n",
            "│ 7     ┆ 420                  ┆ 360               ┆ 60                   ┆ 16  ┆ 0      │\n",
            "│ 7     ┆ 420                  ┆ 360               ┆ 60                   ┆ 10  ┆ 0      │\n",
            "│ 7     ┆ 420                  ┆ 360               ┆ 60                   ┆ 22  ┆ 1      │\n",
            "│ 7     ┆ 420                  ┆ 360               ┆ 60                   ┆ 19  ┆ 0      │\n",
            "│ 7     ┆ 420                  ┆ 360               ┆ 60                   ┆ 12  ┆ 1      │\n",
            "└───────┴──────────────────────┴───────────────────┴──────────────────────┴─────┴────────┘\n",
            "X_2 (402, 6)\n",
            "X_2 contains ['month', 'collection_minutes_2', 'awakening_minutes', 'difference_minutes_2', 'age', 'gender']\n",
            "shape: (402, 6)\n",
            "┌───────┬──────────────────────┬───────────────────┬──────────────────────┬─────┬────────┐\n",
            "│ month ┆ collection_minutes_2 ┆ awakening_minutes ┆ difference_minutes_2 ┆ age ┆ gender │\n",
            "│ ---   ┆ ---                  ┆ ---               ┆ ---                  ┆ --- ┆ ---    │\n",
            "│ i64   ┆ i64                  ┆ i64               ┆ i64                  ┆ i64 ┆ i64    │\n",
            "╞═══════╪══════════════════════╪═══════════════════╪══════════════════════╪═════╪════════╡\n",
            "│ 7     ┆ 960                  ┆ 360               ┆ 600                  ┆ 7   ┆ 0      │\n",
            "│ 7     ┆ 960                  ┆ 360               ┆ 600                  ┆ 14  ┆ 0      │\n",
            "│ 7     ┆ 960                  ┆ 360               ┆ 600                  ┆ 11  ┆ 0      │\n",
            "│ 7     ┆ 960                  ┆ 360               ┆ 600                  ┆ 10  ┆ 0      │\n",
            "│ 7     ┆ 960                  ┆ 360               ┆ 600                  ┆ 12  ┆ 0      │\n",
            "│ …     ┆ …                    ┆ …                 ┆ …                    ┆ …   ┆ …      │\n",
            "│ 7     ┆ 960                  ┆ 360               ┆ 600                  ┆ 16  ┆ 0      │\n",
            "│ 7     ┆ 960                  ┆ 360               ┆ 600                  ┆ 10  ┆ 0      │\n",
            "│ 7     ┆ 960                  ┆ 360               ┆ 600                  ┆ 22  ┆ 1      │\n",
            "│ 7     ┆ 960                  ┆ 360               ┆ 600                  ┆ 19  ┆ 0      │\n",
            "│ 7     ┆ 960                  ┆ 360               ┆ 600                  ┆ 12  ┆ 1      │\n",
            "└───────┴──────────────────────┴───────────────────┴──────────────────────┴─────┴────────┘\n"
          ]
        }
      ]
    }
  ]
}