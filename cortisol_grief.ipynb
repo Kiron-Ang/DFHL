{
  "nbformat": 4,
  "nbformat_minor": 0,
  "metadata": {
    "colab": {
      "provenance": [],
      "authorship_tag": "ABX9TyMN/w/aBN/Zqh1htyGSDYd/",
      "include_colab_link": true
    },
    "kernelspec": {
      "name": "python3",
      "display_name": "Python 3"
    },
    "language_info": {
      "name": "python"
    }
  },
  "cells": [
    {
      "cell_type": "markdown",
      "metadata": {
        "id": "view-in-github",
        "colab_type": "text"
      },
      "source": [
        "<a href=\"https://colab.research.google.com/github/Kiron-Ang/DFHL/blob/main/cortisol_grief.ipynb\" target=\"_parent\"><img src=\"https://colab.research.google.com/assets/colab-badge.svg\" alt=\"Open In Colab\"/></a>"
      ]
    },
    {
      "cell_type": "code",
      "execution_count": 1,
      "metadata": {
        "id": "q9iPA24CkmI2",
        "colab": {
          "base_uri": "https://localhost:8080/"
        },
        "outputId": "9e33ba25-b4a4-4cb9-d9e0-e857a3c5132c"
      },
      "outputs": [
        {
          "output_type": "stream",
          "name": "stdout",
          "text": [
            "Python 3.10.12\n",
            "polars 1.9.0\n",
            "scikit-learn 1.5.2\n",
            "statsmodels 0.14.4\n",
            "matplotlib 3.9.2\n",
            "seaborn 0.13.2\n"
          ]
        }
      ],
      "source": [
        "# This IPYNB file was created with Google Colab by Kiron Ang\n",
        "# Print Python version and install/update/import libraries!\n",
        "!python -V\n",
        "\n",
        "!pip install -U polars > output.txt\n",
        "import polars\n",
        "print(\"polars\", polars.__version__)\n",
        "\n",
        "!pip install -U scikit-learn > output.txt\n",
        "import sklearn\n",
        "print(\"scikit-learn\", sklearn.__version__)\n",
        "\n",
        "!pip install -U statsmodels > output.txt\n",
        "import statsmodels\n",
        "print(\"statsmodels\", statsmodels.__version__)\n",
        "\n",
        "!pip install -U matplotlib > output.txt\n",
        "import matplotlib\n",
        "print(\"matplotlib\", matplotlib.__version__)\n",
        "\n",
        "!pip install -U seaborn > output.txt\n",
        "import seaborn\n",
        "print(\"seaborn\", seaborn.__version__)"
      ]
    },
    {
      "cell_type": "code",
      "source": [
        "# read_csv() to store data in a Polars DataFrame\n",
        "cortisol = polars.read_csv(\"cortisol - cleansed.csv\")\n",
        "cortisol = cortisol.drop_nulls()\n",
        "print(\"cortisol\", cortisol.shape)\n",
        "print(\"cortisol contains\", cortisol.columns)"
      ],
      "metadata": {
        "id": "ehy90Pxx48r0",
        "colab": {
          "base_uri": "https://localhost:8080/"
        },
        "outputId": "018ab08f-428a-44c3-85b1-ffe16fcef6cf"
      },
      "execution_count": 2,
      "outputs": [
        {
          "output_type": "stream",
          "name": "stdout",
          "text": [
            "cortisol (21587, 14)\n",
            "cortisol contains ['record_id', 'person_id', 'name', 'cortisol', 'year', 'month', 'day', 'collection', 'awakening', 'collection_minutes', 'awakening_minutes', 'difference_minutes', 'age', 'gender']\n"
          ]
        }
      ]
    },
    {
      "cell_type": "code",
      "source": [
        "# Get data ready for machine learning pipeline!\n",
        "# S is Son, D is Daughter\n",
        "family_1 = [151756224, 312288096, 710554240, 410631648, 437663904] # FAMILY 1: S1, D1, S2, D2, D3\n",
        "family_2 = [980003264, 533873088, 106369672, 676175872, 575183808] # FAMILY 2: S1, S2, S3, S4, D1\n",
        "family_3 = [412766816, 712730496, 207561136, 633178880] # FAMILY 3: D1, S1, S2, S3\n",
        "\n",
        "# Grief Event for Family 1: July 28, 1994\n",
        "# First Grief Event for Family 2: July 26, 1990\n",
        "# Second Grief Event for Family 2: July 17, 1995\n",
        "# Grief Event for Family 3: July 12, 1992\n",
        "\n",
        "before_grief = polars.DataFrame()\n",
        "after_grief = polars.DataFrame()\n",
        "\n",
        "# Samples must be collected in the months May, June, July\n",
        "# August, or September, because all the grief events occurred\n",
        "# in July and we want to see change near the event.\n",
        "cortisol = cortisol.filter(polars.col(\"month\") < 10)\n",
        "cortisol = cortisol.filter(polars.col(\"month\") > 4)\n",
        "\n",
        "print(\"cortisol\", cortisol.shape)"
      ],
      "metadata": {
        "id": "TUtD9niZCXkF",
        "colab": {
          "base_uri": "https://localhost:8080/"
        },
        "outputId": "1e7898ae-221b-42e2-faa8-fa6af539f1fe"
      },
      "execution_count": 3,
      "outputs": [
        {
          "output_type": "stream",
          "name": "stdout",
          "text": [
            "cortisol (18680, 14)\n"
          ]
        }
      ]
    },
    {
      "cell_type": "code",
      "source": [
        "# For all families, add to the before_grief DataFrame if the samples\n",
        "# were collected before a grief event.\n",
        "\n",
        "#### FAMILY 1 GRIEF EVENT\n",
        "for id in family_1:\n",
        "\n",
        "  # Samples must match the id for the current person\n",
        "  temp = cortisol.filter(polars.col(\"person_id\") == id)\n",
        "\n",
        "  # Samples must be in the same year as the grief event\n",
        "  temp = temp.filter(polars.col(\"year\") == 1994)\n",
        "\n",
        "  # Samples must be before the grief event\n",
        "  temp = temp.filter(polars.col(\"month\") < 8)\n",
        "  temp = temp.filter(polars.col(\"day\") < 29)\n",
        "\n",
        "  # Add the rows to the DataFrame\n",
        "  before_grief.vstack(temp, in_place = True)\n",
        "\n",
        "#### FAMILY 2 FIRST GRIEF EVENT\n",
        "for id in family_2:\n",
        "\n",
        "  # Samples must match the id for the current person\n",
        "  temp = cortisol.filter(polars.col(\"person_id\") == id)\n",
        "\n",
        "  # Samples must be in the same year as the grief event\n",
        "  temp = temp.filter(polars.col(\"year\") == 1990)\n",
        "\n",
        "  # Samples must be before the grief event\n",
        "  temp = temp.filter(polars.col(\"month\") < 8)\n",
        "  temp = temp.filter(polars.col(\"day\") < 27)\n",
        "\n",
        "  # Add the rows to the DataFrame\n",
        "  before_grief.vstack(temp, in_place = True)\n",
        "\n",
        "#### FAMILY 2 SECOND GRIEF EVENT\n",
        "for id in family_2:\n",
        "\n",
        "  # Samples must match the id for the current person\n",
        "  temp = cortisol.filter(polars.col(\"person_id\") == id)\n",
        "\n",
        "  # Samples must be in the same year as the grief event\n",
        "  temp = temp.filter(polars.col(\"year\") == 1995)\n",
        "\n",
        "  # Samples must be before the grief event\n",
        "  temp = temp.filter(polars.col(\"month\") < 8)\n",
        "  temp = temp.filter(polars.col(\"day\") < 18)\n",
        "\n",
        "  # Add the rows to the DataFrame\n",
        "  before_grief.vstack(temp, in_place = True)\n",
        "\n",
        "#### FAMILY 3 GRIEF EVENT\n",
        "for id in family_3:\n",
        "\n",
        "  # Samples must match the id for the current person\n",
        "  temp = cortisol.filter(polars.col(\"person_id\") == id)\n",
        "\n",
        "  # Samples must be in the same year as the grief event\n",
        "  temp = temp.filter(polars.col(\"year\") == 1992)\n",
        "\n",
        "  # Samples must be before the grief event\n",
        "  temp = temp.filter(polars.col(\"month\") < 8)\n",
        "  temp = temp.filter(polars.col(\"day\") < 13)\n",
        "\n",
        "  # Add the rows to the DataFrame\n",
        "  before_grief.vstack(temp, in_place = True)\n",
        "\n",
        "before_grief = before_grief.drop_nulls()\n",
        "print(\"before_grief\", before_grief.shape)\n",
        "print(\"before_grief contains\", before_grief.columns)"
      ],
      "metadata": {
        "colab": {
          "base_uri": "https://localhost:8080/"
        },
        "id": "rplegdkHw2qn",
        "outputId": "27bceccf-6924-4a22-f7aa-33fde392a1da"
      },
      "execution_count": 4,
      "outputs": [
        {
          "output_type": "stream",
          "name": "stdout",
          "text": [
            "before_grief (142, 14)\n",
            "before_grief contains ['record_id', 'person_id', 'name', 'cortisol', 'year', 'month', 'day', 'collection', 'awakening', 'collection_minutes', 'awakening_minutes', 'difference_minutes', 'age', 'gender']\n"
          ]
        }
      ]
    },
    {
      "cell_type": "code",
      "source": [
        "# For all families, add to the after_grief DataFrame if the samples\n",
        "# were collected after a grief event.\n",
        "\n",
        "#### FAMILY 1 GRIEF EVENT\n",
        "for id in family_1:\n",
        "\n",
        "  # Samples must match the id for the current person\n",
        "  temp = cortisol.filter(polars.col(\"person_id\") == id)\n",
        "\n",
        "  # Samples must be in the same year as the grief event\n",
        "  temp = temp.filter(polars.col(\"year\") == 1994)\n",
        "\n",
        "  # Samples must be after the grief event\n",
        "  temp = temp.filter(polars.col(\"month\") > 6)\n",
        "  temp = temp.filter(polars.col(\"day\") > 27)\n",
        "\n",
        "  # Add the rows to the DataFrame\n",
        "  after_grief.vstack(temp, in_place = True)\n",
        "\n",
        "#### FAMILY 2 FIRST GRIEF EVENT\n",
        "for id in family_2:\n",
        "\n",
        "  # Samples must match the id for the current person\n",
        "  temp = cortisol.filter(polars.col(\"person_id\") == id)\n",
        "\n",
        "  # Samples must be in the same year as the grief event\n",
        "  temp = temp.filter(polars.col(\"year\") == 1990)\n",
        "\n",
        "  # Samples must be before the grief event\n",
        "  temp = temp.filter(polars.col(\"month\") > 6)\n",
        "  temp = temp.filter(polars.col(\"day\") > 25)\n",
        "\n",
        "  # Add the rows to the DataFrame\n",
        "  after_grief.vstack(temp, in_place = True)\n",
        "\n",
        "#### FAMILY 2 SECOND GRIEF EVENT\n",
        "for id in family_2:\n",
        "\n",
        "  # Samples must match the id for the current person\n",
        "  temp = cortisol.filter(polars.col(\"person_id\") == id)\n",
        "\n",
        "  # Samples must be in the same year as the grief event\n",
        "  temp = temp.filter(polars.col(\"year\") == 1995)\n",
        "\n",
        "  # Samples must be before the grief event\n",
        "  temp = temp.filter(polars.col(\"month\") > 6)\n",
        "  temp = temp.filter(polars.col(\"day\") > 16)\n",
        "\n",
        "  # Add the rows to the DataFrame\n",
        "  after_grief.vstack(temp, in_place = True)\n",
        "\n",
        "#### FAMILY 3 GRIEF EVENT\n",
        "for id in family_3:\n",
        "\n",
        "  # Samples must match the id for the current person\n",
        "  temp = cortisol.filter(polars.col(\"person_id\") == id)\n",
        "\n",
        "  # Samples must be in the same year as the grief event\n",
        "  temp = temp.filter(polars.col(\"year\") == 1992)\n",
        "\n",
        "  # Samples must be before the grief event\n",
        "  temp = temp.filter(polars.col(\"month\") > 6)\n",
        "  temp = temp.filter(polars.col(\"day\") > 11)\n",
        "\n",
        "  # Add the rows to the DataFrame\n",
        "  after_grief.vstack(temp, in_place = True)\n",
        "\n",
        "after_grief = after_grief.drop_nulls()\n",
        "print(\"after_grief\", after_grief.shape)\n",
        "print(\"after_grief contains\", after_grief.columns)"
      ],
      "metadata": {
        "colab": {
          "base_uri": "https://localhost:8080/"
        },
        "outputId": "3679a01a-b8da-488b-ca65-44260d33971a",
        "id": "QKOrhCmJ3lNk"
      },
      "execution_count": 5,
      "outputs": [
        {
          "output_type": "stream",
          "name": "stdout",
          "text": [
            "after_grief (97, 14)\n",
            "after_grief contains ['record_id', 'person_id', 'name', 'cortisol', 'year', 'month', 'day', 'collection', 'awakening', 'collection_minutes', 'awakening_minutes', 'difference_minutes', 'age', 'gender']\n"
          ]
        }
      ]
    },
    {
      "cell_type": "code",
      "source": [
        "# Create 4 polars DataFrames to hold inputs and targets for before and after\n",
        "X_before = before_grief[\"month\", \"collection_minutes\", \"awakening_minutes\", \"difference_minutes\", \"age\", \"gender\"]\n",
        "print(\"X_before\", X_before.shape)\n",
        "print(\"X_before contains\", X_before.columns)\n",
        "print(X_before)\n",
        "\n",
        "y_before = before_grief[\"cortisol\"]\n",
        "print(\"y_before\", y_before.shape)\n",
        "print(\"y_before contains\", y_before.name)\n",
        "print(y_before)\n",
        "\n",
        "X_after = after_grief[\"month\", \"collection_minutes\", \"awakening_minutes\", \"difference_minutes\", \"age\", \"gender\"]\n",
        "print(\"X_after\", X_after.shape)\n",
        "print(\"X_after contains\", X_after.columns)\n",
        "print(X_after)\n",
        "\n",
        "y_after = after_grief[\"cortisol\"]\n",
        "print(\"y_after\", y_after.shape)\n",
        "print(\"y_after contains\", y_after.name)\n",
        "print(y_after)"
      ],
      "metadata": {
        "colab": {
          "base_uri": "https://localhost:8080/"
        },
        "id": "XDUQlhsV5Cfc",
        "outputId": "5ab0f42e-729c-4dcc-d111-84176fdc77b3"
      },
      "execution_count": 6,
      "outputs": [
        {
          "output_type": "stream",
          "name": "stdout",
          "text": [
            "X_before (142, 6)\n",
            "X_before contains ['month', 'collection_minutes', 'awakening_minutes', 'difference_minutes', 'age', 'gender']\n",
            "shape: (142, 6)\n",
            "┌───────┬────────────────────┬───────────────────┬────────────────────┬─────┬────────┐\n",
            "│ month ┆ collection_minutes ┆ awakening_minutes ┆ difference_minutes ┆ age ┆ gender │\n",
            "│ ---   ┆ ---                ┆ ---               ┆ ---                ┆ --- ┆ ---    │\n",
            "│ i64   ┆ i64                ┆ i64               ┆ i64                ┆ i64 ┆ i64    │\n",
            "╞═══════╪════════════════════╪═══════════════════╪════════════════════╪═════╪════════╡\n",
            "│ 7     ┆ 1060               ┆ 465               ┆ 595                ┆ 7   ┆ 0      │\n",
            "│ 7     ┆ 1020               ┆ 435               ┆ 585                ┆ 7   ┆ 0      │\n",
            "│ 6     ┆ 1005               ┆ 425               ┆ 580                ┆ 7   ┆ 0      │\n",
            "│ 6     ┆ 1000               ┆ 360               ┆ 640                ┆ 7   ┆ 0      │\n",
            "│ 7     ┆ 980                ┆ 360               ┆ 620                ┆ 7   ┆ 0      │\n",
            "│ …     ┆ …                  ┆ …                 ┆ …                  ┆ …   ┆ …      │\n",
            "│ 7     ┆ 530                ┆ 330               ┆ 200                ┆ 8   ┆ 0      │\n",
            "│ 7     ┆ 455                ┆ 365               ┆ 90                 ┆ 8   ┆ 0      │\n",
            "│ 7     ┆ 455                ┆ 360               ┆ 95                 ┆ 8   ┆ 0      │\n",
            "│ 7     ┆ 440                ┆ 390               ┆ 50                 ┆ 8   ┆ 0      │\n",
            "│ 7     ┆ 440                ┆ 320               ┆ 120                ┆ 8   ┆ 0      │\n",
            "└───────┴────────────────────┴───────────────────┴────────────────────┴─────┴────────┘\n",
            "y_before (142,)\n",
            "y_before contains cortisol\n",
            "shape: (142,)\n",
            "Series: 'cortisol' [f64]\n",
            "[\n",
            "\t0.09215\n",
            "\t0.13968\n",
            "\t0.28712\n",
            "\t0.37054\n",
            "\t0.0388\n",
            "\t…\n",
            "\t0.135\n",
            "\t0.297\n",
            "\t0.378\n",
            "\t0.216\n",
            "\t0.459\n",
            "]\n",
            "X_after (97, 6)\n",
            "X_after contains ['month', 'collection_minutes', 'awakening_minutes', 'difference_minutes', 'age', 'gender']\n",
            "shape: (97, 6)\n",
            "┌───────┬────────────────────┬───────────────────┬────────────────────┬─────┬────────┐\n",
            "│ month ┆ collection_minutes ┆ awakening_minutes ┆ difference_minutes ┆ age ┆ gender │\n",
            "│ ---   ┆ ---                ┆ ---               ┆ ---                ┆ --- ┆ ---    │\n",
            "│ i64   ┆ i64                ┆ i64               ┆ i64                ┆ i64 ┆ i64    │\n",
            "╞═══════╪════════════════════╪═══════════════════╪════════════════════╪═════╪════════╡\n",
            "│ 7     ┆ 990                ┆ 440               ┆ 550                ┆ 7   ┆ 0      │\n",
            "│ 7     ┆ 980                ┆ 360               ┆ 620                ┆ 7   ┆ 0      │\n",
            "│ 7     ┆ 960                ┆ 430               ┆ 530                ┆ 7   ┆ 0      │\n",
            "│ 7     ┆ 565                ┆ 430               ┆ 135                ┆ 7   ┆ 0      │\n",
            "│ 7     ┆ 510                ┆ 440               ┆ 70                 ┆ 7   ┆ 0      │\n",
            "│ …     ┆ …                  ┆ …                 ┆ …                  ┆ …   ┆ …      │\n",
            "│ 7     ┆ 440                ┆ 420               ┆ 20                 ┆ 8   ┆ 0      │\n",
            "│ 7     ┆ 990                ┆ 365               ┆ 625                ┆ 8   ┆ 0      │\n",
            "│ 7     ┆ 975                ┆ 320               ┆ 655                ┆ 8   ┆ 0      │\n",
            "│ 7     ┆ 465                ┆ 365               ┆ 100                ┆ 8   ┆ 0      │\n",
            "│ 7     ┆ 440                ┆ 320               ┆ 120                ┆ 8   ┆ 0      │\n",
            "└───────┴────────────────────┴───────────────────┴────────────────────┴─────┴────────┘\n",
            "y_after (97,)\n",
            "y_after contains cortisol\n",
            "shape: (97,)\n",
            "Series: 'cortisol' [f64]\n",
            "[\n",
            "\t0.12707\n",
            "\t0.0388\n",
            "\t0.14841\n",
            "\t0.32204\n",
            "\t0.17363\n",
            "\t…\n",
            "\t0.414\n",
            "\t0.09\n",
            "\t0.081\n",
            "\t0.171\n",
            "\t0.459\n",
            "]\n"
          ]
        }
      ]
    },
    {
      "cell_type": "code",
      "source": [
        "# make_pipeline() to organize model steps\n",
        "import sklearn.pipeline\n",
        "import sklearn.ensemble\n",
        "\n",
        "pipeline = sklearn.pipeline.make_pipeline(\n",
        "    sklearn.ensemble.HistGradientBoostingRegressor(\n",
        "        random_state = 900, scoring = \"r2\", validation_fraction = 0.2,\n",
        "        learning_rate = 0.01, max_iter = 1000, max_leaf_nodes = 10))\n",
        "\n",
        "# cross_validate() to determine model performance\n",
        "cross_validate = sklearn.model_selection.cross_validate(\n",
        "    pipeline, X_before, y_before, cv = 2, verbose = 3)\n",
        "\n",
        "print(\"r^2 score for before_grief model:\", cross_validate[\"test_score\"].mean())\n",
        "\n",
        "cross_validate = sklearn.model_selection.cross_validate(\n",
        "    pipeline, X_after, y_after, cv = 2, verbose = 3)\n",
        "\n",
        "print(\"r^2 score for after_grief model:\", cross_validate[\"test_score\"].mean())"
      ],
      "metadata": {
        "colab": {
          "base_uri": "https://localhost:8080/"
        },
        "id": "3z3SVUs-5z2f",
        "outputId": "d083aacc-9a49-45e2-d3f2-139d4d8a0af7"
      },
      "execution_count": 7,
      "outputs": [
        {
          "output_type": "stream",
          "name": "stdout",
          "text": [
            "[CV] END ......................................., score=0.258 total time=   0.3s\n",
            "[CV] END ......................................., score=0.239 total time=   0.3s\n",
            "r^2 score for before_grief model: 0.2483078312745477\n",
            "[CV] END ......................................., score=0.266 total time=   0.3s\n",
            "[CV] END ......................................., score=0.188 total time=   0.3s\n",
            "r^2 score for after_grief model: 0.2270540739824538\n"
          ]
        }
      ]
    },
    {
      "cell_type": "code",
      "source": [
        "# read_csv() to store data in a Polars DataFrame\n",
        "people = polars.read_csv(\"cortisol - 14_people.csv\")\n",
        "people = people.drop_nulls()\n",
        "print(\"people\", people.shape)\n",
        "print(\"people contains\", people.columns)"
      ],
      "metadata": {
        "colab": {
          "base_uri": "https://localhost:8080/"
        },
        "id": "0VR_waQfulSH",
        "outputId": "909db6fb-fc43-4396-aa78-502f5b1f9356"
      },
      "execution_count": 8,
      "outputs": [
        {
          "output_type": "stream",
          "name": "stdout",
          "text": [
            "people (14, 4)\n",
            "people contains ['id', 'name', 'gender', 'birth_year']\n"
          ]
        }
      ]
    },
    {
      "cell_type": "markdown",
      "source": [
        "This is going to get very confusing very quickly. I am simply predicting 4 cortisol measurements: 2 for before grief, and 2 for after grief, for the 14 people in the families mentioned above."
      ],
      "metadata": {
        "id": "GyGvgbhFCiTh"
      }
    },
    {
      "cell_type": "code",
      "source": [
        "# Working with before_grief model first.\n",
        "pipeline.fit(X_before, y_before)\n",
        "\n",
        "# Extrapolate two cortisol measurements with predict():\n",
        "# 1) 7 AM in July 2000\n",
        "# 2) 4 PM in July 2000\n",
        "# The year picked is arbitrary. It only matters in terms of\n",
        "# calculating age for the participants in this hypothetical scenario,\n",
        "# although I want to pick something outside of the range of the grief events\n",
        "# recorded here (1990 - 1995)\n",
        "\n",
        "# Add age column; age = 2000 - birth_year\n",
        "age = polars.Series(\"age\", 2000 - people[\"birth_year\"])\n",
        "people.insert_column(-1, age)\n",
        "\n",
        "# Add month column; all grief events happened in July\n",
        "month = polars.Series(\"month\", [7] * 14)\n",
        "people.insert_column(-1, month)\n",
        "\n",
        "# Add awakening_minutes column; assume everyone wakes up at 6 AM\n",
        "awakening_minutes = polars.Series(\"awakening_minutes\", [360] * 14)\n",
        "people.insert_column(-1, awakening_minutes)\n",
        "\n",
        "# Add collection_minutes_1; assume 7 AM\n",
        "collection_minutes_1 = polars.Series(\"collection_minutes_1\", [420] * 14)\n",
        "people.insert_column(-1, collection_minutes_1)\n",
        "\n",
        "# Add collection_minutes_2; assume 4 PM\n",
        "collection_minutes_2 = polars.Series(\"collection_minutes_2\", [960] * 14)\n",
        "people.insert_column(-1, collection_minutes_2)\n",
        "\n",
        "# Add difference_minutes_1\n",
        "difference_minutes_1 = polars.Series(\"difference_minutes_1\", people[\"collection_minutes_1\"] - people[\"awakening_minutes\"])\n",
        "people.insert_column(-1, difference_minutes_1)\n",
        "\n",
        "# Add difference_minutes_2\n",
        "difference_minutes_2 = polars.Series(\"difference_minutes_2\", people[\"collection_minutes_2\"] - people[\"awakening_minutes\"])\n",
        "people.insert_column(-1, difference_minutes_2)\n",
        "\n",
        "print(\"people\", people.shape)\n",
        "print(\"people contains\", people.columns)"
      ],
      "metadata": {
        "colab": {
          "base_uri": "https://localhost:8080/"
        },
        "id": "7_l-SY-SCuwT",
        "outputId": "e474a03f-268e-4ec6-8707-b1df029c7343"
      },
      "execution_count": 9,
      "outputs": [
        {
          "output_type": "stream",
          "name": "stdout",
          "text": [
            "people (14, 11)\n",
            "people contains ['id', 'name', 'gender', 'age', 'month', 'awakening_minutes', 'collection_minutes_1', 'collection_minutes_2', 'difference_minutes_1', 'difference_minutes_2', 'birth_year']\n"
          ]
        }
      ]
    },
    {
      "cell_type": "code",
      "source": [
        "# Create new two new Polars DataFrames (X_1, X_2) to\n",
        "# predict cortisol measurements (cortisol_1, cortisol_2)\n",
        "X_1 = people[\"month\", \"collection_minutes_1\", \"awakening_minutes\", \"difference_minutes_1\", \"age\", \"gender\"]\n",
        "print(\"X_1\", X_1.shape)\n",
        "print(\"X_1 contains\", X_1.columns)\n",
        "print(X_1)\n",
        "\n",
        "X_2 = people[\"month\", \"collection_minutes_2\", \"awakening_minutes\", \"difference_minutes_2\", \"age\", \"gender\"]\n",
        "print(\"X_2\", X_2.shape)\n",
        "print(\"X_2 contains\", X_2.columns)\n",
        "print(X_2)"
      ],
      "metadata": {
        "colab": {
          "base_uri": "https://localhost:8080/"
        },
        "id": "MbrRTkS4EbIH",
        "outputId": "31749f59-9a69-496b-dedf-231fd9088785"
      },
      "execution_count": 10,
      "outputs": [
        {
          "output_type": "stream",
          "name": "stdout",
          "text": [
            "X_1 (14, 6)\n",
            "X_1 contains ['month', 'collection_minutes_1', 'awakening_minutes', 'difference_minutes_1', 'age', 'gender']\n",
            "shape: (14, 6)\n",
            "┌───────┬──────────────────────┬───────────────────┬──────────────────────┬─────┬────────┐\n",
            "│ month ┆ collection_minutes_1 ┆ awakening_minutes ┆ difference_minutes_1 ┆ age ┆ gender │\n",
            "│ ---   ┆ ---                  ┆ ---               ┆ ---                  ┆ --- ┆ ---    │\n",
            "│ i64   ┆ i64                  ┆ i64               ┆ i64                  ┆ i64 ┆ i64    │\n",
            "╞═══════╪══════════════════════╪═══════════════════╪══════════════════════╪═════╪════════╡\n",
            "│ 7     ┆ 420                  ┆ 360               ┆ 60                   ┆ 12  ┆ 0      │\n",
            "│ 7     ┆ 420                  ┆ 360               ┆ 60                   ┆ 21  ┆ 0      │\n",
            "│ 7     ┆ 420                  ┆ 360               ┆ 60                   ┆ 16  ┆ 0      │\n",
            "│ 7     ┆ 420                  ┆ 360               ┆ 60                   ┆ 23  ┆ 0      │\n",
            "│ 7     ┆ 420                  ┆ 360               ┆ 60                   ┆ 19  ┆ 1      │\n",
            "│ …     ┆ …                    ┆ …                 ┆ …                    ┆ …   ┆ …      │\n",
            "│ 7     ┆ 420                  ┆ 360               ┆ 60                   ┆ 23  ┆ 1      │\n",
            "│ 7     ┆ 420                  ┆ 360               ┆ 60                   ┆ 17  ┆ 0      │\n",
            "│ 7     ┆ 420                  ┆ 360               ┆ 60                   ┆ 15  ┆ 1      │\n",
            "│ 7     ┆ 420                  ┆ 360               ┆ 60                   ┆ 20  ┆ 1      │\n",
            "│ 7     ┆ 420                  ┆ 360               ┆ 60                   ┆ 13  ┆ 0      │\n",
            "└───────┴──────────────────────┴───────────────────┴──────────────────────┴─────┴────────┘\n",
            "X_2 (14, 6)\n",
            "X_2 contains ['month', 'collection_minutes_2', 'awakening_minutes', 'difference_minutes_2', 'age', 'gender']\n",
            "shape: (14, 6)\n",
            "┌───────┬──────────────────────┬───────────────────┬──────────────────────┬─────┬────────┐\n",
            "│ month ┆ collection_minutes_2 ┆ awakening_minutes ┆ difference_minutes_2 ┆ age ┆ gender │\n",
            "│ ---   ┆ ---                  ┆ ---               ┆ ---                  ┆ --- ┆ ---    │\n",
            "│ i64   ┆ i64                  ┆ i64               ┆ i64                  ┆ i64 ┆ i64    │\n",
            "╞═══════╪══════════════════════╪═══════════════════╪══════════════════════╪═════╪════════╡\n",
            "│ 7     ┆ 960                  ┆ 360               ┆ 600                  ┆ 12  ┆ 0      │\n",
            "│ 7     ┆ 960                  ┆ 360               ┆ 600                  ┆ 21  ┆ 0      │\n",
            "│ 7     ┆ 960                  ┆ 360               ┆ 600                  ┆ 16  ┆ 0      │\n",
            "│ 7     ┆ 960                  ┆ 360               ┆ 600                  ┆ 23  ┆ 0      │\n",
            "│ 7     ┆ 960                  ┆ 360               ┆ 600                  ┆ 19  ┆ 1      │\n",
            "│ …     ┆ …                    ┆ …                 ┆ …                    ┆ …   ┆ …      │\n",
            "│ 7     ┆ 960                  ┆ 360               ┆ 600                  ┆ 23  ┆ 1      │\n",
            "│ 7     ┆ 960                  ┆ 360               ┆ 600                  ┆ 17  ┆ 0      │\n",
            "│ 7     ┆ 960                  ┆ 360               ┆ 600                  ┆ 15  ┆ 1      │\n",
            "│ 7     ┆ 960                  ┆ 360               ┆ 600                  ┆ 20  ┆ 1      │\n",
            "│ 7     ┆ 960                  ┆ 360               ┆ 600                  ┆ 13  ┆ 0      │\n",
            "└───────┴──────────────────────┴───────────────────┴──────────────────────┴─────┴────────┘\n"
          ]
        }
      ]
    }
  ]
}