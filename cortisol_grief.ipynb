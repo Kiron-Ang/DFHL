{
  "nbformat": 4,
  "nbformat_minor": 0,
  "metadata": {
    "colab": {
      "provenance": [],
      "authorship_tag": "ABX9TyPCwME60l1/pkHvswqkicYS",
      "include_colab_link": true
    },
    "kernelspec": {
      "name": "python3",
      "display_name": "Python 3"
    },
    "language_info": {
      "name": "python"
    }
  },
  "cells": [
    {
      "cell_type": "markdown",
      "metadata": {
        "id": "view-in-github",
        "colab_type": "text"
      },
      "source": [
        "<a href=\"https://colab.research.google.com/github/Kiron-Ang/DFHL/blob/main/cortisol_grief.ipynb\" target=\"_parent\"><img src=\"https://colab.research.google.com/assets/colab-badge.svg\" alt=\"Open In Colab\"/></a>"
      ]
    },
    {
      "cell_type": "code",
      "execution_count": 1,
      "metadata": {
        "colab": {
          "base_uri": "https://localhost:8080/"
        },
        "id": "q9iPA24CkmI2",
        "outputId": "feece135-0850-4f25-fd1b-d82beacb9dd2"
      },
      "outputs": [
        {
          "output_type": "stream",
          "name": "stdout",
          "text": [
            "Python 3.10.12\n",
            "scikit-learn 1.5.2\n",
            "polars 1.9.0\n"
          ]
        }
      ],
      "source": [
        "# Print Python version and install/update/import libraries!\n",
        "!python -V\n",
        "\n",
        "!pip install -U scikit-learn > output.txt\n",
        "import sklearn\n",
        "print(\"scikit-learn\", sklearn.__version__)\n",
        "\n",
        "!pip install -U polars > output.txt\n",
        "import polars\n",
        "print(\"polars\", polars.__version__)"
      ]
    },
    {
      "cell_type": "code",
      "source": [
        "# Read a CSV file with cortisol data into a Polars DataFrame\n",
        "cortisol = polars.read_csv(\"cortisol - grief.csv\")\n",
        "cortisol = cortisol.drop_nulls()\n",
        "print(\"cortisol\", cortisol.shape)\n",
        "print(\"cortisol contains\", cortisol.columns)"
      ],
      "metadata": {
        "colab": {
          "base_uri": "https://localhost:8080/"
        },
        "id": "ehy90Pxx48r0",
        "outputId": "a62d86d4-d7cf-4cb4-c125-ea0c4e332793"
      },
      "execution_count": 2,
      "outputs": [
        {
          "output_type": "stream",
          "name": "stdout",
          "text": [
            "cortisol (1493, 14)\n",
            "cortisol contains ['record_id', 'person_id', 'name', 'cortisol', 'month', 'day', 'year', 'collection', 'awakening', 'collection_minutes', 'awakening_minutes', 'difference_minutes', 'age', 'gender']\n"
          ]
        }
      ]
    },
    {
      "cell_type": "code",
      "source": [
        "# Create three Polars DataFrames to store data for three families\n",
        "family_1 = cortisol.filter(polars.col(\"person_id\").is_in(\n",
        "    [151756224, 312288096, 710554240, 410631648, 437663904]))[\n",
        "    \"cortisol\", \"month\", \"collection_minutes\", \"awakening_minutes\", \"difference_minutes\", \"age\", \"gender\"]\n",
        "print(family_1)\n",
        "\n",
        "family_2 = cortisol.filter(polars.col(\"person_id\").is_in(\n",
        "    [980003264, 533873088, 106369672, 676175872, 575183808]))[\n",
        "    \"cortisol\", \"month\", \"collection_minutes\", \"awakening_minutes\", \"difference_minutes\", \"age\", \"gender\"]\n",
        "print(family_2)\n",
        "\n",
        "family_3 = cortisol.filter(polars.col(\"person_id\").is_in(\n",
        "    [412766816, 712730496, 207561136, 633178880]))[\n",
        "    \"cortisol\", \"month\", \"collection_minutes\", \"awakening_minutes\", \"difference_minutes\", \"age\", \"gender\"]\n",
        "print(family_3)"
      ],
      "metadata": {
        "id": "wKr_rAqktrrz",
        "colab": {
          "base_uri": "https://localhost:8080/"
        },
        "outputId": "20cb4757-2d7d-4734-94b4-55cec9a20e85"
      },
      "execution_count": 3,
      "outputs": [
        {
          "output_type": "stream",
          "name": "stdout",
          "text": [
            "shape: (452, 7)\n",
            "┌──────────┬───────┬────────────────────┬───────────────────┬────────────────────┬─────┬────────┐\n",
            "│ cortisol ┆ month ┆ collection_minutes ┆ awakening_minutes ┆ difference_minutes ┆ age ┆ gender │\n",
            "│ ---      ┆ ---   ┆ ---                ┆ ---               ┆ ---                ┆ --- ┆ ---    │\n",
            "│ f64      ┆ i64   ┆ i64                ┆ i64               ┆ i64                ┆ i64 ┆ i64    │\n",
            "╞══════════╪═══════╪════════════════════╪═══════════════════╪════════════════════╪═════╪════════╡\n",
            "│ 0.45     ┆ 7     ┆ 420                ┆ 420               ┆ 0                  ┆ 5   ┆ 0      │\n",
            "│ 0.243    ┆ 8     ┆ 420                ┆ 420               ┆ 0                  ┆ 5   ┆ 0      │\n",
            "│ 0.2185   ┆ 8     ┆ 430                ┆ 430               ┆ 0                  ┆ 5   ┆ 1      │\n",
            "│ 0.369    ┆ 7     ┆ 430                ┆ 420               ┆ 10                 ┆ 5   ┆ 0      │\n",
            "│ 0.4845   ┆ 6     ┆ 400                ┆ 390               ┆ 10                 ┆ 5   ┆ 1      │\n",
            "│ …        ┆ …     ┆ …                  ┆ …                 ┆ …                  ┆ …   ┆ …      │\n",
            "│ 0.25899  ┆ 7     ┆ 985                ┆ 505               ┆ 480                ┆ 17  ┆ 1      │\n",
            "│ 0.18915  ┆ 6     ┆ 950                ┆ 400               ┆ 550                ┆ 17  ┆ 1      │\n",
            "│ 0.35987  ┆ 6     ┆ 960                ┆ 400               ┆ 560                ┆ 17  ┆ 1      │\n",
            "│ 0.2522   ┆ 7     ┆ 965                ┆ 390               ┆ 575                ┆ 17  ┆ 1      │\n",
            "│ 0.85069  ┆ 7     ┆ 1020               ┆ 420               ┆ 600                ┆ 17  ┆ 1      │\n",
            "└──────────┴───────┴────────────────────┴───────────────────┴────────────────────┴─────┴────────┘\n",
            "shape: (513, 7)\n",
            "┌──────────┬───────┬────────────────────┬───────────────────┬────────────────────┬─────┬────────┐\n",
            "│ cortisol ┆ month ┆ collection_minutes ┆ awakening_minutes ┆ difference_minutes ┆ age ┆ gender │\n",
            "│ ---      ┆ ---   ┆ ---                ┆ ---               ┆ ---                ┆ --- ┆ ---    │\n",
            "│ f64      ┆ i64   ┆ i64                ┆ i64               ┆ i64                ┆ i64 ┆ i64    │\n",
            "╞══════════╪═══════╪════════════════════╪═══════════════════╪════════════════════╪═════╪════════╡\n",
            "│ 0.162    ┆ 8     ┆ 465                ┆ 385               ┆ 80                 ┆ 4   ┆ 0      │\n",
            "│ 0.135    ┆ 8     ┆ 460                ┆ 375               ┆ 85                 ┆ 4   ┆ 0      │\n",
            "│ 0.225    ┆ 8     ┆ 450                ┆ 360               ┆ 90                 ┆ 4   ┆ 0      │\n",
            "│ 0.207    ┆ 8     ┆ 460                ┆ 360               ┆ 100                ┆ 4   ┆ 0      │\n",
            "│ 0.18     ┆ 7     ┆ 475                ┆ 375               ┆ 100                ┆ 4   ┆ 0      │\n",
            "│ …        ┆ …     ┆ …                  ┆ …                 ┆ …                  ┆ …   ┆ …      │\n",
            "│ 0.42777  ┆ 7     ┆ 615                ┆ 390               ┆ 225                ┆ 18  ┆ 0      │\n",
            "│ 0.4424   ┆ 7     ┆ 475                ┆ 475               ┆ 0                  ┆ 19  ┆ 0      │\n",
            "│ 0.2947   ┆ 7     ┆ 485                ┆ 480               ┆ 5                  ┆ 19  ┆ 0      │\n",
            "│ 0.1841   ┆ 7     ┆ 550                ┆ 480               ┆ 70                 ┆ 19  ┆ 0      │\n",
            "│ 0.1484   ┆ 7     ┆ 710                ┆ 480               ┆ 230                ┆ 19  ┆ 0      │\n",
            "└──────────┴───────┴────────────────────┴───────────────────┴────────────────────┴─────┴────────┘\n",
            "shape: (528, 7)\n",
            "┌──────────┬───────┬────────────────────┬───────────────────┬────────────────────┬─────┬────────┐\n",
            "│ cortisol ┆ month ┆ collection_minutes ┆ awakening_minutes ┆ difference_minutes ┆ age ┆ gender │\n",
            "│ ---      ┆ ---   ┆ ---                ┆ ---               ┆ ---                ┆ --- ┆ ---    │\n",
            "│ f64      ┆ i64   ┆ i64                ┆ i64               ┆ i64                ┆ i64 ┆ i64    │\n",
            "╞══════════╪═══════╪════════════════════╪═══════════════════╪════════════════════╪═════╪════════╡\n",
            "│ 0.747    ┆ 7     ┆ 440                ┆ 420               ┆ 20                 ┆ 4   ┆ 1      │\n",
            "│ 0.288    ┆ 7     ┆ 440                ┆ 400               ┆ 40                 ┆ 4   ┆ 1      │\n",
            "│ 0.333    ┆ 8     ┆ 450                ┆ 410               ┆ 40                 ┆ 4   ┆ 1      │\n",
            "│ 0.333    ┆ 7     ┆ 465                ┆ 420               ┆ 45                 ┆ 4   ┆ 1      │\n",
            "│ 0.207    ┆ 8     ┆ 470                ┆ 420               ┆ 50                 ┆ 4   ┆ 1      │\n",
            "│ …        ┆ …     ┆ …                  ┆ …                 ┆ …                  ┆ …   ┆ …      │\n",
            "│ 0.16199  ┆ 7     ┆ 970                ┆ 375               ┆ 595                ┆ 14  ┆ 0      │\n",
            "│ 0.09215  ┆ 7     ┆ 960                ┆ 360               ┆ 600                ┆ 14  ┆ 0      │\n",
            "│ 0.06693  ┆ 6     ┆ 990                ┆ 380               ┆ 610                ┆ 14  ┆ 0      │\n",
            "│ 0.04462  ┆ 6     ┆ 1020               ┆ 375               ┆ 645                ┆ 14  ┆ 0      │\n",
            "│ 0.2275   ┆ 1     ┆ 1045               ┆ 360               ┆ 685                ┆ 14  ┆ 0      │\n",
            "└──────────┴───────┴────────────────────┴───────────────────┴────────────────────┴─────┴────────┘\n"
          ]
        }
      ]
    }
  ]
}